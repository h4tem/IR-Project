{
 "cells": [
  {
   "cell_type": "code",
   "execution_count": 1,
   "metadata": {},
   "outputs": [],
   "source": [
    "import json\n",
    "from sklearn.feature_extraction.text import TfidfVectorizer\n",
    "from sklearn.metrics.pairwise import cosine_similarity"
   ]
  },
  {
   "cell_type": "code",
   "execution_count": 3,
   "metadata": {},
   "outputs": [],
   "source": [
    "# Load the dataset\n",
    "dataset_path = 'WikiPassageQA/document_passages.json'\n",
    "with open(dataset_path, 'r') as file:\n",
    "    dataset = json.load(file)"
   ]
  },
  {
   "cell_type": "code",
   "execution_count": 4,
   "metadata": {},
   "outputs": [],
   "source": [
    "documents = [' '.join(passages.values()) for passages in dataset.values()]"
   ]
  },
  {
   "cell_type": "code",
   "execution_count": 5,
   "metadata": {},
   "outputs": [],
   "source": [
    "tfidf_vectorizer = TfidfVectorizer()\n",
    "\n",
    "# Fit and transform the corpus\n",
    "tfidf_matrix = tfidf_vectorizer.fit_transform(documents)"
   ]
  },
  {
   "cell_type": "code",
   "execution_count": 9,
   "metadata": {},
   "outputs": [],
   "source": [
    "def retrieve_documents(query, tfidf_matrix, tfidf_vectorizer, top_n=1, passages_per_doc=3):\n",
    "    # Transform the query into TF-IDF representation\n",
    "    query_tfidf = tfidf_vectorizer.transform([query])\n",
    "\n",
    "    # Calculate cosine similarity between the query and all documents\n",
    "    cosine_similarities = cosine_similarity(query_tfidf, tfidf_matrix)\n",
    "\n",
    "    # Get the indices of the top_n most similar documents\n",
    "    top_indices = cosine_similarities.argsort()[0][-top_n:][::-1]\n",
    "\n",
    "    # Retrieve the relevant documents and passages\n",
    "    relevant_documents = {}\n",
    "    for index in top_indices:\n",
    "        document_id = list(dataset.keys())[index]\n",
    "        document_passages = list(dataset[str(document_id)].values())\n",
    "        document_sim = cosine_similarities[0][index]\n",
    "\n",
    "        # Get the top passages for this document\n",
    "        top_passages_indices = cosine_similarity(query_tfidf, tfidf_matrix[index])[0].argsort()[-passages_per_doc:][::-1]\n",
    "        top_passages = [document_passages[idx] for idx in top_passages_indices]\n",
    "\n",
    "        relevant_documents[document_id] = {\n",
    "            'similarity': document_sim,\n",
    "            'passages': top_passages\n",
    "        }\n",
    "\n",
    "    return relevant_documents"
   ]
  },
  {
   "cell_type": "code",
   "execution_count": 10,
   "metadata": {},
   "outputs": [],
   "source": [
    "query = \"who lived in chartered towns\"\n",
    "top_documents = retrieve_documents(query, tfidf_matrix, tfidf_vectorizer)"
   ]
  },
  {
   "cell_type": "code",
   "execution_count": 11,
   "metadata": {},
   "outputs": [
    {
     "name": "stdout",
     "output_type": "stream",
     "text": [
      "Document ID: 250, Similarity: 0.09687355296576257\n",
      "Passage: Originally a program of the National League of Cities, Sister Cities International became a separate corporation in 1967 due to the growth and popularity of the US program. SCI is now a nonprofit citizen diplomacy network that creates and strengthens partnerships between communities in the US and other countries, organises cultural exchanges, and provides support and funding. Under its administration, more than 2,000 cities, states and counties are partnered in 136 countries. According to the SCI website, these exchanges include \"musical performances, art exhibits, construction of peace parks or tea gardens, international cultural festivals, and teacher exchanges\". Sister city cultural events include the annual National Cherry Blossom Festival in Washington, D.C., honouring Washington's sister city relationship with Tokyo City. Capitalizing on the growing world economy, many sister city members developed business agreements with their partners.\n",
      "\n"
     ]
    }
   ],
   "source": [
    "for document_id, details in top_documents.items():\n",
    "    print(f\"Document ID: {document_id}, Similarity: {details['similarity']}\")\n",
    "    for passage in details['passages']:\n",
    "        print(f\"Passage: {passage}\")\n",
    "    print()"
   ]
  }
 ],
 "metadata": {
  "kernelspec": {
   "display_name": "base",
   "language": "python",
   "name": "python3"
  },
  "language_info": {
   "codemirror_mode": {
    "name": "ipython",
    "version": 3
   },
   "file_extension": ".py",
   "mimetype": "text/x-python",
   "name": "python",
   "nbconvert_exporter": "python",
   "pygments_lexer": "ipython3",
   "version": "3.9.12"
  }
 },
 "nbformat": 4,
 "nbformat_minor": 2
}
