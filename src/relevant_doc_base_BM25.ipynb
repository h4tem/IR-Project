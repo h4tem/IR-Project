{
 "cells": [
  {
   "cell_type": "code",
   "execution_count": 38,
   "metadata": {},
   "outputs": [
    {
     "name": "stderr",
     "output_type": "stream",
     "text": [
      "[nltk_data] Downloading package punkt to\n",
      "[nltk_data]     C:\\Users\\titouan\\AppData\\Roaming\\nltk_data...\n",
      "[nltk_data]   Package punkt is already up-to-date!\n"
     ]
    },
    {
     "data": {
      "text/plain": [
       "True"
      ]
     },
     "execution_count": 38,
     "metadata": {},
     "output_type": "execute_result"
    }
   ],
   "source": [
    "import json\n",
    "from rank_bm25 import BM25Okapi\n",
    "from nltk.tokenize import word_tokenize\n",
    "from sklearn.feature_extraction.text import TfidfVectorizer\n",
    "from sklearn.metrics.pairwise import cosine_similarity\n",
    "import numpy as np\n",
    "import nltk\n",
    "nltk.download('punkt')"
   ]
  },
  {
   "cell_type": "code",
   "execution_count": 39,
   "metadata": {},
   "outputs": [],
   "source": [
    "def load_data(filepath):\n",
    "    with open(filepath, 'r') as file:\n",
    "        data = json.load(file)\n",
    "    return data"
   ]
  },
  {
   "cell_type": "code",
   "execution_count": 40,
   "metadata": {},
   "outputs": [],
   "source": [
    "def preprocess(text):\n",
    "    return word_tokenize(text.lower())"
   ]
  },
  {
   "cell_type": "code",
   "execution_count": 41,
   "metadata": {},
   "outputs": [],
   "source": [
    "def prepare_bm25(data):\n",
    "    doc_names = []\n",
    "    corpus = []\n",
    "    for doc_id, passages in data.items():\n",
    "        for passage_id, text in passages.items():\n",
    "            doc_names.append((doc_id, passage_id))\n",
    "            corpus.append(preprocess(text))\n",
    "    bm25 = BM25Okapi(corpus)\n",
    "    return bm25, doc_names\n",
    "\n",
    "def get_top_documents_bm25(bm25, doc_names, query, top_n=1):\n",
    "    tokenized_query = preprocess(query)\n",
    "    doc_scores = bm25.get_scores(tokenized_query)\n",
    "    top_doc_indexes = sorted(range(len(doc_scores)), key=lambda i: doc_scores[i], reverse=True)[:top_n]\n",
    "    top_docs = [(doc_names[i], doc_scores[i]) for i in top_doc_indexes]\n",
    "    return top_docs"
   ]
  },
  {
   "cell_type": "code",
   "execution_count": 42,
   "metadata": {},
   "outputs": [],
   "source": [
    "def print_results(data, top_docs):\n",
    "    print(\"Top Documents and Passages:\")\n",
    "    for doc, score in top_docs:\n",
    "        print(f\"Document ID: {doc[0]}, Passage ID: {doc[1]}, Score: {score:.2f}\")\n",
    "        print(data[doc[0]][doc[1]])\n",
    "        print()"
   ]
  },
  {
   "cell_type": "code",
   "execution_count": 43,
   "metadata": {},
   "outputs": [
    {
     "name": "stdout",
     "output_type": "stream",
     "text": [
      "BM25 RESULTATS\n",
      "Top Documents and Passages:\n",
      "Document ID: 400, Passage ID: 1, Score: 34.39\n",
      "A member of the upper house of the Commonwealth parliament, the Senate, is known as a \"Senator\". In the Australian states of New South Wales, Victoria and South Australia, a Member of the Legislative Assembly or \"lower house,\" may also use the post-nominal \"MP.\" Members of the Legislative Council use the post-nominal \"MLC.\" Members of the Jatiyo Sangshad, or National Assembly, are elected every five years and are referred to in English as members of Parliament. The assembly has directly elected 300 seats, and further 50 reserved selected seats for women. The Parliament of Canada consists of the monarch, the Senate , and the House of Commons .\n",
      "\n"
     ]
    }
   ],
   "source": [
    "def main():\n",
    "    filepath = 'WikiPassageQA/document_passages.json'\n",
    "    \n",
    "    # Load data\n",
    "    data = load_data(filepath)\n",
    "    \n",
    "    # Prepare VSM\n",
    "    bm25, doc_names = prepare_bm25(data)\n",
    "    \n",
    "    # Example query\n",
    "    query = \"What is the structure of Australia’s members of parliament?\"\n",
    "\n",
    "    # Retrieve top documents using VSM\n",
    "    top_docs_bm25 = get_top_documents_bm25(bm25, doc_names, query)\n",
    "    \n",
    "    # Print results\n",
    "    print(\"BM25 RESULTATS\")\n",
    "    print_results(data, top_docs_bm25)\n",
    "\n",
    "main()"
   ]
  }
 ],
 "metadata": {
  "kernelspec": {
   "display_name": "base",
   "language": "python",
   "name": "python3"
  },
  "language_info": {
   "codemirror_mode": {
    "name": "ipython",
    "version": 3
   },
   "file_extension": ".py",
   "mimetype": "text/x-python",
   "name": "python",
   "nbconvert_exporter": "python",
   "pygments_lexer": "ipython3",
   "version": "3.9.12"
  }
 },
 "nbformat": 4,
 "nbformat_minor": 2
}
