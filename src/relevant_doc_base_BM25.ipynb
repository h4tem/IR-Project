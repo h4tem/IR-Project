{
 "cells": [
  {
   "cell_type": "code",
   "execution_count": 13,
   "metadata": {},
   "outputs": [
    {
     "name": "stderr",
     "output_type": "stream",
     "text": [
      "[nltk_data] Downloading package punkt to\n",
      "[nltk_data]     C:\\Users\\titouan\\AppData\\Roaming\\nltk_data...\n",
      "[nltk_data]   Package punkt is already up-to-date!\n"
     ]
    },
    {
     "data": {
      "text/plain": [
       "True"
      ]
     },
     "execution_count": 13,
     "metadata": {},
     "output_type": "execute_result"
    }
   ],
   "source": [
    "import json\n",
    "from rank_bm25 import BM25Okapi\n",
    "from nltk.tokenize import word_tokenize\n",
    "from sklearn.feature_extraction.text import TfidfVectorizer\n",
    "from sklearn.metrics.pairwise import cosine_similarity\n",
    "import numpy as np\n",
    "import nltk\n",
    "nltk.download('punkt')"
   ]
  },
  {
   "cell_type": "code",
   "execution_count": 14,
   "metadata": {},
   "outputs": [],
   "source": [
    "def load_data(filepath):\n",
    "    with open(filepath, 'r') as file:\n",
    "        data = json.load(file)\n",
    "    return data"
   ]
  },
  {
   "cell_type": "code",
   "execution_count": 15,
   "metadata": {},
   "outputs": [],
   "source": [
    "def preprocess(text):\n",
    "    return word_tokenize(text.lower())"
   ]
  },
  {
   "cell_type": "code",
   "execution_count": 16,
   "metadata": {},
   "outputs": [],
   "source": [
    "def prepare_bm25(data):\n",
    "    doc_passages = {}\n",
    "    corpus = []\n",
    "    for doc_id, passages in data.items():\n",
    "        doc_passages[doc_id] = []\n",
    "        for passage_id, text in passages.items():\n",
    "            processed_text = preprocess(text)\n",
    "            corpus.append(processed_text)\n",
    "            doc_passages[doc_id].append((passage_id, processed_text))\n",
    "    bm25 = BM25Okapi(corpus)\n",
    "    return bm25, doc_passages\n",
    "\n",
    "def get_most_relevant_document(bm25, doc_passages, query):\n",
    "    tokenized_query = preprocess(query)\n",
    "    scores = bm25.get_scores(tokenized_query)  # This gives scores for all passages in the corpus\n",
    "\n",
    "    # Calculate aggregate scores for each document based on its passages\n",
    "    doc_scores = {}\n",
    "    start_index = 0\n",
    "    for doc_id, passages in doc_passages.items():\n",
    "        doc_scores[doc_id] = np.mean(scores[start_index:start_index + len(passages)])  # Use mean score of passages for the document\n",
    "        start_index += len(passages)\n",
    "\n",
    "    most_relevant_doc = max(doc_scores, key=doc_scores.get)\n",
    "    return most_relevant_doc\n",
    "\n",
    "def get_top_passages_from_doc(bm25, doc_passages, doc_id, query, top_n=2):\n",
    "    tokenized_query = preprocess(query)\n",
    "    passages = doc_passages[doc_id]\n",
    "    scores = bm25.get_scores(tokenized_query)\n",
    "\n",
    "    # Filter scores for passages in the specific document\n",
    "    start_index = sum(len(doc_passages[doc]) for doc in sorted(doc_passages) if doc < doc_id)\n",
    "    doc_scores = scores[start_index:start_index + len(passages)]\n",
    "\n",
    "    scored_passages = [(score, passage_id, ' '.join(text)) for score, (passage_id, text) in zip(doc_scores, passages)]\n",
    "    top_passages = sorted(scored_passages, reverse=True, key=lambda x: x[0])[:top_n]\n",
    "    return top_passages\n"
   ]
  },
  {
   "cell_type": "code",
   "execution_count": 17,
   "metadata": {},
   "outputs": [],
   "source": [
    "def print_results(data, top_docs):\n",
    "    print(\"Top Documents and Passages:\")\n",
    "    for doc, score in top_docs:\n",
    "        print(f\"Document ID: {doc[0]}, Passage ID: {doc[1]}, Score: {score:.2f}\")\n",
    "        print(data[doc[0]][doc[1]])\n",
    "        print()"
   ]
  },
  {
   "cell_type": "code",
   "execution_count": 19,
   "metadata": {},
   "outputs": [
    {
     "name": "stdout",
     "output_type": "stream",
     "text": [
      "Most Relevant Document: 400\n",
      "Passage ID: 15, Score: 21.36\n",
      "there are 123 members of parliament in total . they are also alternatively called member of the national assembly . parliamentary elections are traditionally held every five years with no term limits imposed . the 25 provinces of cambodia are represented by the members of parliament in the national assembly . a constituency may have more than one mp , depending on the population . a member of parliament is a member of either of the two chambers of the parliament of the czech republic , although the term members of parliament of the czech republic is commonly referred to deputies of the parliament of the czech republic who are members of the lower house of the parliament , chamber of deputies .\n",
      "\n",
      "Passage ID: 18, Score: 19.48\n",
      "the parliament of lebanon is the lebanese national legislature . it is elected to a four-year term by universal adult suffrage in multi-member constituencies , apportioned among lebanon 's diverse christian and muslim denominations . its major functions are to elect the president of the republic , to approve the government , and to approve laws and expenditure . the name of a deputy in arabic is naeb . the plural of naeb is nuwab . in the republic of macedonia there are 120 members of parliament which are called 'pratenici ' .\n",
      "\n",
      "Passage ID: 17, Score: 19.32\n",
      "an important though not constitutionally required feature of german parliamentarianism is a slightly modified proportional representation . the 16 federal states of germany are represented by the bundesrat at the former prussian house of lords , whose members are representatives of the respective lander 's governments and not directly elected by the people . a member of the knesset is one of the 120 members of the knesset . the title is almost always shortened to the initialism `` mk '' . in the republican parliament the current term is deputato and so the lower house takes the name of camera dei deputati . similarly to other countries , the upper house is called senato and its members are the senatori .\n",
      "\n",
      "Passage ID: 19, Score: 19.09\n",
      "the parliament of the netherlands is known as the staten-generaal , states general . it is bicameral , divided in two kamers . the senate is known in dutch as the eerste kamer and its members as `` senatoren '' , senators . the house of representatives , known in dutch as the tweede kamer , is the most important one . the important debates take place here . also , the second chamber can edit proposed laws with amendments and it can propose laws itself .\n",
      "\n",
      "Passage ID: 2, Score: 18.71\n",
      "only members of the lower house are referred to as members of parliament , while members of the upper house are called senators . there are currently 105 seats in the senate and 338 in the house of commons . members of parliament are elected , while senators are appointed by the governor general on behalf of the sovereign at the direction of the prime minister . retirement is mandatory for senators upon reaching the age of 75 years . each province has its own legislature , with each member usually known as a member of the legislative assembly . in certain provinces , legislators carry other titles : member of provincial parliament in ontario , member of the national assembly in quebec , and member of the house of assembly in newfoundland and labrador .\n",
      "\n"
     ]
    }
   ],
   "source": [
    "def main():\n",
    "    filepath = 'WikiPassageQA/document_passages.json'\n",
    "    data = load_data(filepath)\n",
    "    bm25, doc_passages = prepare_bm25(data)\n",
    "    query = \"What is the structure of Australia’s members of parliament?\"\n",
    "\n",
    "    most_relevant_doc = get_most_relevant_document(bm25, doc_passages, query)\n",
    "    top_passages = get_top_passages_from_doc(bm25, doc_passages, most_relevant_doc, query, top_n=5)\n",
    "\n",
    "    print(f\"Most Relevant Document: {most_relevant_doc}\")\n",
    "    for score, passage_id, text in top_passages:\n",
    "        print(f\"Passage ID: {passage_id}, Score: {score:.2f}\")\n",
    "        print(text)\n",
    "        print()\n",
    "\n",
    "main()"
   ]
  }
 ],
 "metadata": {
  "kernelspec": {
   "display_name": "base",
   "language": "python",
   "name": "python3"
  },
  "language_info": {
   "codemirror_mode": {
    "name": "ipython",
    "version": 3
   },
   "file_extension": ".py",
   "mimetype": "text/x-python",
   "name": "python",
   "nbconvert_exporter": "python",
   "pygments_lexer": "ipython3",
   "version": "3.9.12"
  }
 },
 "nbformat": 4,
 "nbformat_minor": 2
}
