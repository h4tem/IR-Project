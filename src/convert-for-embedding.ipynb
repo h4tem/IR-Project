{
 "cells": [
  {
   "cell_type": "code",
   "execution_count": 5,
   "metadata": {},
   "outputs": [],
   "source": [
    "import json\n",
    "\n",
    "# Open and load the JSON file\n",
    "with open('WikiPassageQA/document_passages.json', 'r') as file:\n",
    "    data = json.load(file)\n",
    "\n",
    "# Function to clean text by removing specific characters\n",
    "def clean_text(text):\n",
    "    return text.replace(\"'\", \"\").replace('\\\"', \"\")\n",
    "\n",
    "# Convert dictionary of dictionaries to dictionary of lists and clean the texts\n",
    "converted_data = {key: [clean_text(value) for value in sub_dict.values()] for key, sub_dict in data.items()}\n",
    "\n",
    "# Save the converted and cleaned data as a JSON file\n",
    "with open('converted_data.json', 'w') as json_file:\n",
    "    json.dump(converted_data, json_file, indent=4)"
   ]
  }
 ],
 "metadata": {
  "kernelspec": {
   "display_name": "Python 3",
   "language": "python",
   "name": "python3"
  },
  "language_info": {
   "codemirror_mode": {
    "name": "ipython",
    "version": 3
   },
   "file_extension": ".py",
   "mimetype": "text/x-python",
   "name": "python",
   "nbconvert_exporter": "python",
   "pygments_lexer": "ipython3",
   "version": "3.12.0"
  }
 },
 "nbformat": 4,
 "nbformat_minor": 2
}
